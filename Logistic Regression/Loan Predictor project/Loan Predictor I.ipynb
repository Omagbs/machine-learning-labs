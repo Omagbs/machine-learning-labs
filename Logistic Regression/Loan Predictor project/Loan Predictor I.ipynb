{
 "cells": [
  {
   "cell_type": "markdown",
   "id": "48844b0e-bdc8-4191-b652-316d01fa4b86",
   "metadata": {},
   "source": [
    "# Goal\n",
    "A simple project to illustrate logistic regression on predicting customers who will likely be considered for a loan"
   ]
  },
  {
   "cell_type": "markdown",
   "id": "6166fb6f-d9f7-4f5b-8be1-0ba290567e45",
   "metadata": {},
   "source": [
    "### Import Libraries"
   ]
  },
  {
   "cell_type": "code",
   "execution_count": 4,
   "id": "4c045a9a-e574-44ff-baea-370a51ebc624",
   "metadata": {},
   "outputs": [],
   "source": [
    "import pandas as pd\n",
    "import numpy as np\n",
    "import matplotlib.pylab as plt\n",
    "import seaborn as sns\n",
    "plt.style.use('ggplot')"
   ]
  },
  {
   "cell_type": "markdown",
   "id": "64d3d77b-ee62-4350-9653-a472ce9dd57d",
   "metadata": {},
   "source": [
    "## Importing the Dataset"
   ]
  },
  {
   "cell_type": "code",
   "execution_count": 5,
   "id": "4f4ef180-fa8e-474d-ba5c-9b61d19c39a1",
   "metadata": {},
   "outputs": [
    {
     "data": {
      "text/html": [
       "<div>\n",
       "<style scoped>\n",
       "    .dataframe tbody tr th:only-of-type {\n",
       "        vertical-align: middle;\n",
       "    }\n",
       "\n",
       "    .dataframe tbody tr th {\n",
       "        vertical-align: top;\n",
       "    }\n",
       "\n",
       "    .dataframe thead th {\n",
       "        text-align: right;\n",
       "    }\n",
       "</style>\n",
       "<table border=\"1\" class=\"dataframe\">\n",
       "  <thead>\n",
       "    <tr style=\"text-align: right;\">\n",
       "      <th></th>\n",
       "      <th>age</th>\n",
       "      <th>gender</th>\n",
       "      <th>occupation</th>\n",
       "      <th>education_level</th>\n",
       "      <th>marital_status</th>\n",
       "      <th>income</th>\n",
       "      <th>credit_score</th>\n",
       "      <th>loan_status</th>\n",
       "    </tr>\n",
       "  </thead>\n",
       "  <tbody>\n",
       "    <tr>\n",
       "      <th>0</th>\n",
       "      <td>32</td>\n",
       "      <td>Male</td>\n",
       "      <td>Engineer</td>\n",
       "      <td>Bachelor's</td>\n",
       "      <td>Married</td>\n",
       "      <td>85000</td>\n",
       "      <td>720</td>\n",
       "      <td>Approved</td>\n",
       "    </tr>\n",
       "    <tr>\n",
       "      <th>1</th>\n",
       "      <td>45</td>\n",
       "      <td>Female</td>\n",
       "      <td>Teacher</td>\n",
       "      <td>Master's</td>\n",
       "      <td>Single</td>\n",
       "      <td>62000</td>\n",
       "      <td>680</td>\n",
       "      <td>Approved</td>\n",
       "    </tr>\n",
       "    <tr>\n",
       "      <th>2</th>\n",
       "      <td>28</td>\n",
       "      <td>Male</td>\n",
       "      <td>Student</td>\n",
       "      <td>High School</td>\n",
       "      <td>Single</td>\n",
       "      <td>25000</td>\n",
       "      <td>590</td>\n",
       "      <td>Denied</td>\n",
       "    </tr>\n",
       "    <tr>\n",
       "      <th>3</th>\n",
       "      <td>51</td>\n",
       "      <td>Female</td>\n",
       "      <td>Manager</td>\n",
       "      <td>Bachelor's</td>\n",
       "      <td>Married</td>\n",
       "      <td>105000</td>\n",
       "      <td>780</td>\n",
       "      <td>Approved</td>\n",
       "    </tr>\n",
       "    <tr>\n",
       "      <th>4</th>\n",
       "      <td>36</td>\n",
       "      <td>Male</td>\n",
       "      <td>Accountant</td>\n",
       "      <td>Bachelor's</td>\n",
       "      <td>Married</td>\n",
       "      <td>75000</td>\n",
       "      <td>710</td>\n",
       "      <td>Approved</td>\n",
       "    </tr>\n",
       "  </tbody>\n",
       "</table>\n",
       "</div>"
      ],
      "text/plain": [
       "   age  gender  occupation education_level marital_status  income  \\\n",
       "0   32    Male    Engineer      Bachelor's        Married   85000   \n",
       "1   45  Female     Teacher        Master's         Single   62000   \n",
       "2   28    Male     Student     High School         Single   25000   \n",
       "3   51  Female     Manager      Bachelor's        Married  105000   \n",
       "4   36    Male  Accountant      Bachelor's        Married   75000   \n",
       "\n",
       "   credit_score loan_status  \n",
       "0           720    Approved  \n",
       "1           680    Approved  \n",
       "2           590      Denied  \n",
       "3           780    Approved  \n",
       "4           710    Approved  "
      ]
     },
     "execution_count": 5,
     "metadata": {},
     "output_type": "execute_result"
    }
   ],
   "source": [
    "df = pd.read_csv(\"loan.csv\")\n",
    "df.head()"
   ]
  },
  {
   "cell_type": "markdown",
   "id": "76095a9d-99bf-4998-9082-28a4ba84aeae",
   "metadata": {},
   "source": [
    "## EDA"
   ]
  },
  {
   "cell_type": "code",
   "execution_count": 6,
   "id": "bc6ae71a-4538-483d-91f7-3082836d9e02",
   "metadata": {},
   "outputs": [
    {
     "name": "stdout",
     "output_type": "stream",
     "text": [
      "<class 'pandas.core.frame.DataFrame'>\n",
      "RangeIndex: 61 entries, 0 to 60\n",
      "Data columns (total 8 columns):\n",
      " #   Column           Non-Null Count  Dtype \n",
      "---  ------           --------------  ----- \n",
      " 0   age              61 non-null     int64 \n",
      " 1   gender           61 non-null     object\n",
      " 2   occupation       61 non-null     object\n",
      " 3   education_level  61 non-null     object\n",
      " 4   marital_status   61 non-null     object\n",
      " 5   income           61 non-null     int64 \n",
      " 6   credit_score     61 non-null     int64 \n",
      " 7   loan_status      61 non-null     object\n",
      "dtypes: int64(3), object(5)\n",
      "memory usage: 3.9+ KB\n"
     ]
    }
   ],
   "source": [
    "df.info()"
   ]
  },
  {
   "cell_type": "code",
   "execution_count": 7,
   "id": "3e62e2b6-4687-4eca-8980-66e9f2b2e0b0",
   "metadata": {},
   "outputs": [
    {
     "data": {
      "text/html": [
       "<div>\n",
       "<style scoped>\n",
       "    .dataframe tbody tr th:only-of-type {\n",
       "        vertical-align: middle;\n",
       "    }\n",
       "\n",
       "    .dataframe tbody tr th {\n",
       "        vertical-align: top;\n",
       "    }\n",
       "\n",
       "    .dataframe thead th {\n",
       "        text-align: right;\n",
       "    }\n",
       "</style>\n",
       "<table border=\"1\" class=\"dataframe\">\n",
       "  <thead>\n",
       "    <tr style=\"text-align: right;\">\n",
       "      <th></th>\n",
       "      <th>age</th>\n",
       "      <th>income</th>\n",
       "      <th>credit_score</th>\n",
       "    </tr>\n",
       "  </thead>\n",
       "  <tbody>\n",
       "    <tr>\n",
       "      <th>count</th>\n",
       "      <td>61.000000</td>\n",
       "      <td>61.000000</td>\n",
       "      <td>61.000000</td>\n",
       "    </tr>\n",
       "    <tr>\n",
       "      <th>mean</th>\n",
       "      <td>37.081967</td>\n",
       "      <td>78983.606557</td>\n",
       "      <td>709.836066</td>\n",
       "    </tr>\n",
       "    <tr>\n",
       "      <th>std</th>\n",
       "      <td>8.424755</td>\n",
       "      <td>33772.025802</td>\n",
       "      <td>72.674888</td>\n",
       "    </tr>\n",
       "    <tr>\n",
       "      <th>min</th>\n",
       "      <td>24.000000</td>\n",
       "      <td>25000.000000</td>\n",
       "      <td>560.000000</td>\n",
       "    </tr>\n",
       "    <tr>\n",
       "      <th>25%</th>\n",
       "      <td>30.000000</td>\n",
       "      <td>52000.000000</td>\n",
       "      <td>650.000000</td>\n",
       "    </tr>\n",
       "    <tr>\n",
       "      <th>50%</th>\n",
       "      <td>36.000000</td>\n",
       "      <td>78000.000000</td>\n",
       "      <td>720.000000</td>\n",
       "    </tr>\n",
       "    <tr>\n",
       "      <th>75%</th>\n",
       "      <td>43.000000</td>\n",
       "      <td>98000.000000</td>\n",
       "      <td>770.000000</td>\n",
       "    </tr>\n",
       "    <tr>\n",
       "      <th>max</th>\n",
       "      <td>55.000000</td>\n",
       "      <td>180000.000000</td>\n",
       "      <td>830.000000</td>\n",
       "    </tr>\n",
       "  </tbody>\n",
       "</table>\n",
       "</div>"
      ],
      "text/plain": [
       "             age         income  credit_score\n",
       "count  61.000000      61.000000     61.000000\n",
       "mean   37.081967   78983.606557    709.836066\n",
       "std     8.424755   33772.025802     72.674888\n",
       "min    24.000000   25000.000000    560.000000\n",
       "25%    30.000000   52000.000000    650.000000\n",
       "50%    36.000000   78000.000000    720.000000\n",
       "75%    43.000000   98000.000000    770.000000\n",
       "max    55.000000  180000.000000    830.000000"
      ]
     },
     "execution_count": 7,
     "metadata": {},
     "output_type": "execute_result"
    }
   ],
   "source": [
    "df.describe()"
   ]
  },
  {
   "cell_type": "markdown",
   "id": "d5cb0f78-e83c-4288-b3c6-6f3d797314a5",
   "metadata": {},
   "source": [
    "### Checking for missing rows"
   ]
  },
  {
   "cell_type": "code",
   "execution_count": 8,
   "id": "abeb11dc-1d0e-4ec5-8465-032299c7344d",
   "metadata": {},
   "outputs": [
    {
     "data": {
      "text/plain": [
       "age                0\n",
       "gender             0\n",
       "occupation         0\n",
       "education_level    0\n",
       "marital_status     0\n",
       "income             0\n",
       "credit_score       0\n",
       "loan_status        0\n",
       "dtype: int64"
      ]
     },
     "execution_count": 8,
     "metadata": {},
     "output_type": "execute_result"
    }
   ],
   "source": [
    "df.isnull().sum()"
   ]
  },
  {
   "cell_type": "markdown",
   "id": "7732e4dd-e8bc-4a93-8d79-6512b582f655",
   "metadata": {},
   "source": [
    "### Encoding categorical data"
   ]
  },
  {
   "cell_type": "code",
   "execution_count": 9,
   "id": "2a0d0c7a-8dad-45ce-93ea-0481b3140b59",
   "metadata": {},
   "outputs": [
    {
     "data": {
      "text/html": [
       "<div>\n",
       "<style scoped>\n",
       "    .dataframe tbody tr th:only-of-type {\n",
       "        vertical-align: middle;\n",
       "    }\n",
       "\n",
       "    .dataframe tbody tr th {\n",
       "        vertical-align: top;\n",
       "    }\n",
       "\n",
       "    .dataframe thead th {\n",
       "        text-align: right;\n",
       "    }\n",
       "</style>\n",
       "<table border=\"1\" class=\"dataframe\">\n",
       "  <thead>\n",
       "    <tr style=\"text-align: right;\">\n",
       "      <th></th>\n",
       "      <th>age</th>\n",
       "      <th>income</th>\n",
       "      <th>credit_score</th>\n",
       "      <th>gender_Male</th>\n",
       "      <th>occupation_Analyst</th>\n",
       "      <th>occupation_Architect</th>\n",
       "      <th>occupation_Artist</th>\n",
       "      <th>occupation_Banker</th>\n",
       "      <th>occupation_Chef</th>\n",
       "      <th>occupation_Consultant</th>\n",
       "      <th>...</th>\n",
       "      <th>occupation_Stylist</th>\n",
       "      <th>occupation_Teacher</th>\n",
       "      <th>occupation_Veterinarian</th>\n",
       "      <th>occupation_Writer</th>\n",
       "      <th>education_level_Bachelor's</th>\n",
       "      <th>education_level_Doctoral</th>\n",
       "      <th>education_level_High School</th>\n",
       "      <th>education_level_Master's</th>\n",
       "      <th>marital_status_Single</th>\n",
       "      <th>loan_status_Denied</th>\n",
       "    </tr>\n",
       "  </thead>\n",
       "  <tbody>\n",
       "    <tr>\n",
       "      <th>0</th>\n",
       "      <td>32</td>\n",
       "      <td>85000</td>\n",
       "      <td>720</td>\n",
       "      <td>True</td>\n",
       "      <td>False</td>\n",
       "      <td>False</td>\n",
       "      <td>False</td>\n",
       "      <td>False</td>\n",
       "      <td>False</td>\n",
       "      <td>False</td>\n",
       "      <td>...</td>\n",
       "      <td>False</td>\n",
       "      <td>False</td>\n",
       "      <td>False</td>\n",
       "      <td>False</td>\n",
       "      <td>True</td>\n",
       "      <td>False</td>\n",
       "      <td>False</td>\n",
       "      <td>False</td>\n",
       "      <td>False</td>\n",
       "      <td>False</td>\n",
       "    </tr>\n",
       "    <tr>\n",
       "      <th>1</th>\n",
       "      <td>45</td>\n",
       "      <td>62000</td>\n",
       "      <td>680</td>\n",
       "      <td>False</td>\n",
       "      <td>False</td>\n",
       "      <td>False</td>\n",
       "      <td>False</td>\n",
       "      <td>False</td>\n",
       "      <td>False</td>\n",
       "      <td>False</td>\n",
       "      <td>...</td>\n",
       "      <td>False</td>\n",
       "      <td>True</td>\n",
       "      <td>False</td>\n",
       "      <td>False</td>\n",
       "      <td>False</td>\n",
       "      <td>False</td>\n",
       "      <td>False</td>\n",
       "      <td>True</td>\n",
       "      <td>True</td>\n",
       "      <td>False</td>\n",
       "    </tr>\n",
       "    <tr>\n",
       "      <th>2</th>\n",
       "      <td>28</td>\n",
       "      <td>25000</td>\n",
       "      <td>590</td>\n",
       "      <td>True</td>\n",
       "      <td>False</td>\n",
       "      <td>False</td>\n",
       "      <td>False</td>\n",
       "      <td>False</td>\n",
       "      <td>False</td>\n",
       "      <td>False</td>\n",
       "      <td>...</td>\n",
       "      <td>False</td>\n",
       "      <td>False</td>\n",
       "      <td>False</td>\n",
       "      <td>False</td>\n",
       "      <td>False</td>\n",
       "      <td>False</td>\n",
       "      <td>True</td>\n",
       "      <td>False</td>\n",
       "      <td>True</td>\n",
       "      <td>True</td>\n",
       "    </tr>\n",
       "    <tr>\n",
       "      <th>3</th>\n",
       "      <td>51</td>\n",
       "      <td>105000</td>\n",
       "      <td>780</td>\n",
       "      <td>False</td>\n",
       "      <td>False</td>\n",
       "      <td>False</td>\n",
       "      <td>False</td>\n",
       "      <td>False</td>\n",
       "      <td>False</td>\n",
       "      <td>False</td>\n",
       "      <td>...</td>\n",
       "      <td>False</td>\n",
       "      <td>False</td>\n",
       "      <td>False</td>\n",
       "      <td>False</td>\n",
       "      <td>True</td>\n",
       "      <td>False</td>\n",
       "      <td>False</td>\n",
       "      <td>False</td>\n",
       "      <td>False</td>\n",
       "      <td>False</td>\n",
       "    </tr>\n",
       "    <tr>\n",
       "      <th>4</th>\n",
       "      <td>36</td>\n",
       "      <td>75000</td>\n",
       "      <td>710</td>\n",
       "      <td>True</td>\n",
       "      <td>False</td>\n",
       "      <td>False</td>\n",
       "      <td>False</td>\n",
       "      <td>False</td>\n",
       "      <td>False</td>\n",
       "      <td>False</td>\n",
       "      <td>...</td>\n",
       "      <td>False</td>\n",
       "      <td>False</td>\n",
       "      <td>False</td>\n",
       "      <td>False</td>\n",
       "      <td>True</td>\n",
       "      <td>False</td>\n",
       "      <td>False</td>\n",
       "      <td>False</td>\n",
       "      <td>False</td>\n",
       "      <td>False</td>\n",
       "    </tr>\n",
       "    <tr>\n",
       "      <th>...</th>\n",
       "      <td>...</td>\n",
       "      <td>...</td>\n",
       "      <td>...</td>\n",
       "      <td>...</td>\n",
       "      <td>...</td>\n",
       "      <td>...</td>\n",
       "      <td>...</td>\n",
       "      <td>...</td>\n",
       "      <td>...</td>\n",
       "      <td>...</td>\n",
       "      <td>...</td>\n",
       "      <td>...</td>\n",
       "      <td>...</td>\n",
       "      <td>...</td>\n",
       "      <td>...</td>\n",
       "      <td>...</td>\n",
       "      <td>...</td>\n",
       "      <td>...</td>\n",
       "      <td>...</td>\n",
       "      <td>...</td>\n",
       "      <td>...</td>\n",
       "    </tr>\n",
       "    <tr>\n",
       "      <th>56</th>\n",
       "      <td>39</td>\n",
       "      <td>100000</td>\n",
       "      <td>770</td>\n",
       "      <td>True</td>\n",
       "      <td>False</td>\n",
       "      <td>True</td>\n",
       "      <td>False</td>\n",
       "      <td>False</td>\n",
       "      <td>False</td>\n",
       "      <td>False</td>\n",
       "      <td>...</td>\n",
       "      <td>False</td>\n",
       "      <td>False</td>\n",
       "      <td>False</td>\n",
       "      <td>False</td>\n",
       "      <td>False</td>\n",
       "      <td>False</td>\n",
       "      <td>False</td>\n",
       "      <td>True</td>\n",
       "      <td>False</td>\n",
       "      <td>False</td>\n",
       "    </tr>\n",
       "    <tr>\n",
       "      <th>57</th>\n",
       "      <td>25</td>\n",
       "      <td>32000</td>\n",
       "      <td>570</td>\n",
       "      <td>False</td>\n",
       "      <td>False</td>\n",
       "      <td>False</td>\n",
       "      <td>False</td>\n",
       "      <td>False</td>\n",
       "      <td>False</td>\n",
       "      <td>False</td>\n",
       "      <td>...</td>\n",
       "      <td>False</td>\n",
       "      <td>False</td>\n",
       "      <td>False</td>\n",
       "      <td>False</td>\n",
       "      <td>False</td>\n",
       "      <td>False</td>\n",
       "      <td>True</td>\n",
       "      <td>False</td>\n",
       "      <td>True</td>\n",
       "      <td>True</td>\n",
       "    </tr>\n",
       "    <tr>\n",
       "      <th>58</th>\n",
       "      <td>43</td>\n",
       "      <td>95000</td>\n",
       "      <td>760</td>\n",
       "      <td>True</td>\n",
       "      <td>False</td>\n",
       "      <td>False</td>\n",
       "      <td>False</td>\n",
       "      <td>True</td>\n",
       "      <td>False</td>\n",
       "      <td>False</td>\n",
       "      <td>...</td>\n",
       "      <td>False</td>\n",
       "      <td>False</td>\n",
       "      <td>False</td>\n",
       "      <td>False</td>\n",
       "      <td>True</td>\n",
       "      <td>False</td>\n",
       "      <td>False</td>\n",
       "      <td>False</td>\n",
       "      <td>False</td>\n",
       "      <td>False</td>\n",
       "    </tr>\n",
       "    <tr>\n",
       "      <th>59</th>\n",
       "      <td>30</td>\n",
       "      <td>55000</td>\n",
       "      <td>650</td>\n",
       "      <td>False</td>\n",
       "      <td>False</td>\n",
       "      <td>False</td>\n",
       "      <td>False</td>\n",
       "      <td>False</td>\n",
       "      <td>False</td>\n",
       "      <td>False</td>\n",
       "      <td>...</td>\n",
       "      <td>False</td>\n",
       "      <td>False</td>\n",
       "      <td>False</td>\n",
       "      <td>True</td>\n",
       "      <td>False</td>\n",
       "      <td>False</td>\n",
       "      <td>False</td>\n",
       "      <td>True</td>\n",
       "      <td>True</td>\n",
       "      <td>False</td>\n",
       "    </tr>\n",
       "    <tr>\n",
       "      <th>60</th>\n",
       "      <td>38</td>\n",
       "      <td>65000</td>\n",
       "      <td>700</td>\n",
       "      <td>True</td>\n",
       "      <td>False</td>\n",
       "      <td>False</td>\n",
       "      <td>False</td>\n",
       "      <td>False</td>\n",
       "      <td>True</td>\n",
       "      <td>False</td>\n",
       "      <td>...</td>\n",
       "      <td>False</td>\n",
       "      <td>False</td>\n",
       "      <td>False</td>\n",
       "      <td>False</td>\n",
       "      <td>False</td>\n",
       "      <td>False</td>\n",
       "      <td>False</td>\n",
       "      <td>False</td>\n",
       "      <td>False</td>\n",
       "      <td>False</td>\n",
       "    </tr>\n",
       "  </tbody>\n",
       "</table>\n",
       "<p>61 rows × 47 columns</p>\n",
       "</div>"
      ],
      "text/plain": [
       "    age  income  credit_score  gender_Male  occupation_Analyst  \\\n",
       "0    32   85000           720         True               False   \n",
       "1    45   62000           680        False               False   \n",
       "2    28   25000           590         True               False   \n",
       "3    51  105000           780        False               False   \n",
       "4    36   75000           710         True               False   \n",
       "..  ...     ...           ...          ...                 ...   \n",
       "56   39  100000           770         True               False   \n",
       "57   25   32000           570        False               False   \n",
       "58   43   95000           760         True               False   \n",
       "59   30   55000           650        False               False   \n",
       "60   38   65000           700         True               False   \n",
       "\n",
       "    occupation_Architect  occupation_Artist  occupation_Banker  \\\n",
       "0                  False              False              False   \n",
       "1                  False              False              False   \n",
       "2                  False              False              False   \n",
       "3                  False              False              False   \n",
       "4                  False              False              False   \n",
       "..                   ...                ...                ...   \n",
       "56                  True              False              False   \n",
       "57                 False              False              False   \n",
       "58                 False              False               True   \n",
       "59                 False              False              False   \n",
       "60                 False              False              False   \n",
       "\n",
       "    occupation_Chef  occupation_Consultant  ...  occupation_Stylist  \\\n",
       "0             False                  False  ...               False   \n",
       "1             False                  False  ...               False   \n",
       "2             False                  False  ...               False   \n",
       "3             False                  False  ...               False   \n",
       "4             False                  False  ...               False   \n",
       "..              ...                    ...  ...                 ...   \n",
       "56            False                  False  ...               False   \n",
       "57            False                  False  ...               False   \n",
       "58            False                  False  ...               False   \n",
       "59            False                  False  ...               False   \n",
       "60             True                  False  ...               False   \n",
       "\n",
       "    occupation_Teacher  occupation_Veterinarian  occupation_Writer  \\\n",
       "0                False                    False              False   \n",
       "1                 True                    False              False   \n",
       "2                False                    False              False   \n",
       "3                False                    False              False   \n",
       "4                False                    False              False   \n",
       "..                 ...                      ...                ...   \n",
       "56               False                    False              False   \n",
       "57               False                    False              False   \n",
       "58               False                    False              False   \n",
       "59               False                    False               True   \n",
       "60               False                    False              False   \n",
       "\n",
       "    education_level_Bachelor's  education_level_Doctoral  \\\n",
       "0                         True                     False   \n",
       "1                        False                     False   \n",
       "2                        False                     False   \n",
       "3                         True                     False   \n",
       "4                         True                     False   \n",
       "..                         ...                       ...   \n",
       "56                       False                     False   \n",
       "57                       False                     False   \n",
       "58                        True                     False   \n",
       "59                       False                     False   \n",
       "60                       False                     False   \n",
       "\n",
       "    education_level_High School  education_level_Master's  \\\n",
       "0                         False                     False   \n",
       "1                         False                      True   \n",
       "2                          True                     False   \n",
       "3                         False                     False   \n",
       "4                         False                     False   \n",
       "..                          ...                       ...   \n",
       "56                        False                      True   \n",
       "57                         True                     False   \n",
       "58                        False                     False   \n",
       "59                        False                      True   \n",
       "60                        False                     False   \n",
       "\n",
       "    marital_status_Single  loan_status_Denied  \n",
       "0                   False               False  \n",
       "1                    True               False  \n",
       "2                    True                True  \n",
       "3                   False               False  \n",
       "4                   False               False  \n",
       "..                    ...                 ...  \n",
       "56                  False               False  \n",
       "57                   True                True  \n",
       "58                  False               False  \n",
       "59                   True               False  \n",
       "60                  False               False  \n",
       "\n",
       "[61 rows x 47 columns]"
      ]
     },
     "execution_count": 9,
     "metadata": {},
     "output_type": "execute_result"
    }
   ],
   "source": [
    "df_encoded = pd.get_dummies(df, drop_first = True)\n",
    "df_encoded"
   ]
  },
  {
   "cell_type": "code",
   "execution_count": 10,
   "id": "bc1aa229-787a-4c4e-9c3b-b69c10eed600",
   "metadata": {},
   "outputs": [
    {
     "name": "stdout",
     "output_type": "stream",
     "text": [
      "<class 'pandas.core.frame.DataFrame'>\n",
      "RangeIndex: 61 entries, 0 to 60\n",
      "Data columns (total 47 columns):\n",
      " #   Column                       Non-Null Count  Dtype\n",
      "---  ------                       --------------  -----\n",
      " 0   age                          61 non-null     int64\n",
      " 1   income                       61 non-null     int64\n",
      " 2   credit_score                 61 non-null     int64\n",
      " 3   gender_Male                  61 non-null     bool \n",
      " 4   occupation_Analyst           61 non-null     bool \n",
      " 5   occupation_Architect         61 non-null     bool \n",
      " 6   occupation_Artist            61 non-null     bool \n",
      " 7   occupation_Banker            61 non-null     bool \n",
      " 8   occupation_Chef              61 non-null     bool \n",
      " 9   occupation_Consultant        61 non-null     bool \n",
      " 10  occupation_Dentist           61 non-null     bool \n",
      " 11  occupation_Designer          61 non-null     bool \n",
      " 12  occupation_Doctor            61 non-null     bool \n",
      " 13  occupation_Editor            61 non-null     bool \n",
      " 14  occupation_Electrician       61 non-null     bool \n",
      " 15  occupation_Engineer          61 non-null     bool \n",
      " 16  occupation_HR                61 non-null     bool \n",
      " 17  occupation_IT                61 non-null     bool \n",
      " 18  occupation_Lawyer            61 non-null     bool \n",
      " 19  occupation_Manager           61 non-null     bool \n",
      " 20  occupation_Marketing         61 non-null     bool \n",
      " 21  occupation_Musician          61 non-null     bool \n",
      " 22  occupation_Nurse             61 non-null     bool \n",
      " 23  occupation_Pharmacist        61 non-null     bool \n",
      " 24  occupation_Photographer      61 non-null     bool \n",
      " 25  occupation_Pilot             61 non-null     bool \n",
      " 26  occupation_Professor         61 non-null     bool \n",
      " 27  occupation_Programmer        61 non-null     bool \n",
      " 28  occupation_Psychologist      61 non-null     bool \n",
      " 29  occupation_Realtor           61 non-null     bool \n",
      " 30  occupation_Receptionist      61 non-null     bool \n",
      " 31  occupation_Researcher        61 non-null     bool \n",
      " 32  occupation_Sales             61 non-null     bool \n",
      " 33  occupation_Salesman          61 non-null     bool \n",
      " 34  occupation_Server            61 non-null     bool \n",
      " 35  occupation_Software          61 non-null     bool \n",
      " 36  occupation_Student           61 non-null     bool \n",
      " 37  occupation_Stylist           61 non-null     bool \n",
      " 38  occupation_Teacher           61 non-null     bool \n",
      " 39  occupation_Veterinarian      61 non-null     bool \n",
      " 40  occupation_Writer            61 non-null     bool \n",
      " 41  education_level_Bachelor's   61 non-null     bool \n",
      " 42  education_level_Doctoral     61 non-null     bool \n",
      " 43  education_level_High School  61 non-null     bool \n",
      " 44  education_level_Master's     61 non-null     bool \n",
      " 45  marital_status_Single        61 non-null     bool \n",
      " 46  loan_status_Denied           61 non-null     bool \n",
      "dtypes: bool(44), int64(3)\n",
      "memory usage: 4.2 KB\n"
     ]
    }
   ],
   "source": [
    "df_encoded.info()"
   ]
  },
  {
   "cell_type": "code",
   "execution_count": 11,
   "id": "471e4011-0746-44bc-b7de-42003828c103",
   "metadata": {},
   "outputs": [],
   "source": [
    "X = df_encoded.drop(\"loan_status_Denied\", axis = 1)\n",
    "y = df_encoded[\"loan_status_Denied\"]"
   ]
  },
  {
   "cell_type": "markdown",
   "id": "e69d8e47-85cc-4fbc-9d5f-09f7e2bdf1d5",
   "metadata": {},
   "source": [
    "## spliting to test and train set"
   ]
  },
  {
   "cell_type": "code",
   "execution_count": 12,
   "id": "a7aaf502-b4f4-4d74-b546-c1629727001b",
   "metadata": {},
   "outputs": [],
   "source": [
    "from sklearn.model_selection import train_test_split\n",
    "\n",
    "X_train, X_test, y_train, y_test = train_test_split(X, y, test_size = 0.2, random_state=42)"
   ]
  },
  {
   "cell_type": "markdown",
   "id": "da895033-70c4-4c48-b3f3-7b5131aa1569",
   "metadata": {},
   "source": [
    "## Training the Data"
   ]
  },
  {
   "cell_type": "code",
   "execution_count": 13,
   "id": "11d4cc07-71fa-437d-829c-a72a5fd4e86a",
   "metadata": {},
   "outputs": [],
   "source": [
    "from sklearn.linear_model import LogisticRegression\n",
    "\n",
    "lr = LogisticRegression()"
   ]
  },
  {
   "cell_type": "code",
   "execution_count": 14,
   "id": "35ebc1f5-ee75-4227-afeb-5e53f876ea65",
   "metadata": {},
   "outputs": [
    {
     "data": {
      "text/html": [
       "<style>#sk-container-id-1 {color: black;background-color: white;}#sk-container-id-1 pre{padding: 0;}#sk-container-id-1 div.sk-toggleable {background-color: white;}#sk-container-id-1 label.sk-toggleable__label {cursor: pointer;display: block;width: 100%;margin-bottom: 0;padding: 0.3em;box-sizing: border-box;text-align: center;}#sk-container-id-1 label.sk-toggleable__label-arrow:before {content: \"▸\";float: left;margin-right: 0.25em;color: #696969;}#sk-container-id-1 label.sk-toggleable__label-arrow:hover:before {color: black;}#sk-container-id-1 div.sk-estimator:hover label.sk-toggleable__label-arrow:before {color: black;}#sk-container-id-1 div.sk-toggleable__content {max-height: 0;max-width: 0;overflow: hidden;text-align: left;background-color: #f0f8ff;}#sk-container-id-1 div.sk-toggleable__content pre {margin: 0.2em;color: black;border-radius: 0.25em;background-color: #f0f8ff;}#sk-container-id-1 input.sk-toggleable__control:checked~div.sk-toggleable__content {max-height: 200px;max-width: 100%;overflow: auto;}#sk-container-id-1 input.sk-toggleable__control:checked~label.sk-toggleable__label-arrow:before {content: \"▾\";}#sk-container-id-1 div.sk-estimator input.sk-toggleable__control:checked~label.sk-toggleable__label {background-color: #d4ebff;}#sk-container-id-1 div.sk-label input.sk-toggleable__control:checked~label.sk-toggleable__label {background-color: #d4ebff;}#sk-container-id-1 input.sk-hidden--visually {border: 0;clip: rect(1px 1px 1px 1px);clip: rect(1px, 1px, 1px, 1px);height: 1px;margin: -1px;overflow: hidden;padding: 0;position: absolute;width: 1px;}#sk-container-id-1 div.sk-estimator {font-family: monospace;background-color: #f0f8ff;border: 1px dotted black;border-radius: 0.25em;box-sizing: border-box;margin-bottom: 0.5em;}#sk-container-id-1 div.sk-estimator:hover {background-color: #d4ebff;}#sk-container-id-1 div.sk-parallel-item::after {content: \"\";width: 100%;border-bottom: 1px solid gray;flex-grow: 1;}#sk-container-id-1 div.sk-label:hover label.sk-toggleable__label {background-color: #d4ebff;}#sk-container-id-1 div.sk-serial::before {content: \"\";position: absolute;border-left: 1px solid gray;box-sizing: border-box;top: 0;bottom: 0;left: 50%;z-index: 0;}#sk-container-id-1 div.sk-serial {display: flex;flex-direction: column;align-items: center;background-color: white;padding-right: 0.2em;padding-left: 0.2em;position: relative;}#sk-container-id-1 div.sk-item {position: relative;z-index: 1;}#sk-container-id-1 div.sk-parallel {display: flex;align-items: stretch;justify-content: center;background-color: white;position: relative;}#sk-container-id-1 div.sk-item::before, #sk-container-id-1 div.sk-parallel-item::before {content: \"\";position: absolute;border-left: 1px solid gray;box-sizing: border-box;top: 0;bottom: 0;left: 50%;z-index: -1;}#sk-container-id-1 div.sk-parallel-item {display: flex;flex-direction: column;z-index: 1;position: relative;background-color: white;}#sk-container-id-1 div.sk-parallel-item:first-child::after {align-self: flex-end;width: 50%;}#sk-container-id-1 div.sk-parallel-item:last-child::after {align-self: flex-start;width: 50%;}#sk-container-id-1 div.sk-parallel-item:only-child::after {width: 0;}#sk-container-id-1 div.sk-dashed-wrapped {border: 1px dashed gray;margin: 0 0.4em 0.5em 0.4em;box-sizing: border-box;padding-bottom: 0.4em;background-color: white;}#sk-container-id-1 div.sk-label label {font-family: monospace;font-weight: bold;display: inline-block;line-height: 1.2em;}#sk-container-id-1 div.sk-label-container {text-align: center;}#sk-container-id-1 div.sk-container {/* jupyter's `normalize.less` sets `[hidden] { display: none; }` but bootstrap.min.css set `[hidden] { display: none !important; }` so we also need the `!important` here to be able to override the default hidden behavior on the sphinx rendered scikit-learn.org. See: https://github.com/scikit-learn/scikit-learn/issues/21755 */display: inline-block !important;position: relative;}#sk-container-id-1 div.sk-text-repr-fallback {display: none;}</style><div id=\"sk-container-id-1\" class=\"sk-top-container\"><div class=\"sk-text-repr-fallback\"><pre>LogisticRegression()</pre><b>In a Jupyter environment, please rerun this cell to show the HTML representation or trust the notebook. <br />On GitHub, the HTML representation is unable to render, please try loading this page with nbviewer.org.</b></div><div class=\"sk-container\" hidden><div class=\"sk-item\"><div class=\"sk-estimator sk-toggleable\"><input class=\"sk-toggleable__control sk-hidden--visually\" id=\"sk-estimator-id-1\" type=\"checkbox\" checked><label for=\"sk-estimator-id-1\" class=\"sk-toggleable__label sk-toggleable__label-arrow\">LogisticRegression</label><div class=\"sk-toggleable__content\"><pre>LogisticRegression()</pre></div></div></div></div></div>"
      ],
      "text/plain": [
       "LogisticRegression()"
      ]
     },
     "execution_count": 14,
     "metadata": {},
     "output_type": "execute_result"
    }
   ],
   "source": [
    "lr.fit(X_train, y_train)"
   ]
  },
  {
   "cell_type": "code",
   "execution_count": 15,
   "id": "15c98d7b-c29e-46b5-a29c-18fe958efd48",
   "metadata": {},
   "outputs": [],
   "source": [
    "y_pred = lr.predict(X_test)"
   ]
  },
  {
   "cell_type": "code",
   "execution_count": 16,
   "id": "32c3eeeb-4ec0-4fbf-b812-c6d49e86058d",
   "metadata": {},
   "outputs": [
    {
     "name": "stdout",
     "output_type": "stream",
     "text": [
      "Our accuracy is 100.0 %\n"
     ]
    }
   ],
   "source": [
    "## Evaluating our model\n",
    "from sklearn.metrics import accuracy_score, classification_report, confusion_matrix\n",
    "\n",
    "accuracy = accuracy_score(y_test, y_pred)\n",
    "print(f\"Our accuracy is {accuracy * 100} %\")"
   ]
  },
  {
   "cell_type": "code",
   "execution_count": 17,
   "id": "615fed70-4976-491e-99a3-0a0606f8f93a",
   "metadata": {},
   "outputs": [
    {
     "name": "stdout",
     "output_type": "stream",
     "text": [
      "[[9 0]\n",
      " [0 4]]\n"
     ]
    }
   ],
   "source": [
    "confusion = confusion_matrix(y_test, y_pred)\n",
    "print(confusion)"
   ]
  },
  {
   "cell_type": "code",
   "execution_count": 27,
   "id": "2ce61545-27e8-434d-a3fd-024b35380f4b",
   "metadata": {},
   "outputs": [
    {
     "name": "stdout",
     "output_type": "stream",
     "text": [
      "              precision    recall  f1-score   support\n",
      "\n",
      "       False       1.00      1.00      1.00         9\n",
      "        True       1.00      1.00      1.00         4\n",
      "\n",
      "    accuracy                           1.00        13\n",
      "   macro avg       1.00      1.00      1.00        13\n",
      "weighted avg       1.00      1.00      1.00        13\n",
      "\n"
     ]
    }
   ],
   "source": [
    "report = classification_report(y_test, y_pred)\n",
    "print(report)"
   ]
  },
  {
   "cell_type": "markdown",
   "id": "1ae69e37-5cca-463c-8c7d-85b30277fdc9",
   "metadata": {},
   "source": [
    "it's usually not the case to achieve a 100 percent accuracy. this is due to the fact that our data set is very small"
   ]
  },
  {
   "cell_type": "markdown",
   "id": "ed1e4af9-e330-495b-85d9-0e468d131e04",
   "metadata": {},
   "source": [
    "### Simulating our model"
   ]
  },
  {
   "cell_type": "code",
   "execution_count": 19,
   "id": "af04b33c-3562-4e0a-ba80-327458967393",
   "metadata": {},
   "outputs": [
    {
     "name": "stdout",
     "output_type": "stream",
     "text": [
      "Approved\n"
     ]
    }
   ],
   "source": [
    "new_df = pd.DataFrame(np.zeros((1, X_train.shape[1])), columns = X_train.columns)\n",
    "\n",
    "## np.zeros(row, column), then name of column\n",
    "\n",
    "new_df.at[0, 'age'] = 35\n",
    "new_df.at[0, 'income'] = 80000\n",
    "new_df.at[0, 'credit_score'] = 650\n",
    "new_df.at[0, 'gender_Male'] = 1\n",
    "new_df.at[0, 'occupation_Engineer'] = 1\n",
    "new_df.at[0, 'education_level_Bachelor\\'s'] = 1\n",
    "new_df.at[0, 'marital_status_Single'] = 1\n",
    "\n",
    "prediction =lr.predict(new_df)\n",
    "\n",
    "if prediction[0] == True:\n",
    "    result = \"Denied\"\n",
    "else:\n",
    "    result = \"Approved\"\n",
    "\n",
    "print(result)"
   ]
  },
  {
   "cell_type": "markdown",
   "id": "a2337b1a-95a4-4748-a47f-40c601e50516",
   "metadata": {},
   "source": [
    "### Cross validating our model and data\n",
    "\n",
    "Since our model appeared to be perfect, cross validation will help iron things out, and help us us find potential hidden loop-holes or gaps"
   ]
  },
  {
   "cell_type": "code",
   "execution_count": 22,
   "id": "fec9e632-df2a-4d98-8a6a-b663e1fa93af",
   "metadata": {},
   "outputs": [
    {
     "name": "stdout",
     "output_type": "stream",
     "text": [
      "Cross validation scores:[1.         0.91666667 0.91666667 1.         1.        ]\n",
      "Mean of Cross validation scorses:0.9666666666666666\n"
     ]
    }
   ],
   "source": [
    "from sklearn.model_selection import cross_val_score\n",
    "cv_score = cross_val_score(lr, X, y, cv = 5)\n",
    "print(f\"Cross validation scores:{cv_score}\")\n",
    "print(f\"Mean of Cross validation scorses:{cv_score.mean()}\")"
   ]
  },
  {
   "cell_type": "markdown",
   "id": "27094796-af8c-45ac-910d-60e793e1ab96",
   "metadata": {},
   "source": [
    "### Checking the balance of our target"
   ]
  },
  {
   "cell_type": "code",
   "execution_count": 24,
   "id": "43685921-6e51-4169-b055-09064ff7324b",
   "metadata": {},
   "outputs": [
    {
     "data": {
      "text/plain": [
       "loan_status_Denied\n",
       "False    45\n",
       "True     16\n",
       "Name: count, dtype: int64"
      ]
     },
     "execution_count": 24,
     "metadata": {},
     "output_type": "execute_result"
    }
   ],
   "source": [
    "df_encoded['loan_status_Denied'].value_counts()"
   ]
  },
  {
   "cell_type": "markdown",
   "id": "22f91107-53b5-4f53-a360-129d334cdc1e",
   "metadata": {},
   "source": [
    "## checking to see the features that are important"
   ]
  },
  {
   "cell_type": "code",
   "execution_count": 25,
   "id": "dae8706e-d7b8-4fce-9155-87ae653a3b55",
   "metadata": {},
   "outputs": [
    {
     "data": {
      "image/png": "[encoded data removed]",
      "text/plain": [
       "<Figure size 1200x800 with 1 Axes>"
      ]
     },
     "metadata": {},
     "output_type": "display_data"
    }
   ],
   "source": [
    "feature_importance = pd.DataFrame({'Features': X.columns, 'Importance': lr.coef_[0]})\n",
    "feature_importance = feature_importance.sort_values(by='Importance', ascending= False)\n",
    "\n",
    "plt.figure(figsize=(12,8))\n",
    "sns.barplot(x='Importance', y = 'Features', data = feature_importance)\n",
    "plt.title('Feature Importance')\n",
    "plt.show()"
   ]
  },
  {
   "cell_type": "markdown",
   "id": "5c2303a5-0402-4ace-bbcd-0fcd33f83ed4",
   "metadata": {},
   "source": [
    "`Credit score` it the most significant factor that influences loan approval for an individual"
   ]
  },
  {
   "cell_type": "code",
   "execution_count": null,
   "id": "bc0af372-035f-4a99-8ef3-ae54a257b3e1",
   "metadata": {},
   "outputs": [],
   "source": []
  }
 ],
 "metadata": {
  "kernelspec": {
   "display_name": "Python 3 (ipykernel)",
   "language": "python",
   "name": "python3"
  },
  "language_info": {
   "codemirror_mode": {
    "name": "ipython",
    "version": 3
   },
   "file_extension": ".py",
   "mimetype": "text/x-python",
   "name": "python",
   "nbconvert_exporter": "python",
   "pygments_lexer": "ipython3",
   "version": "3.11.7"
  }
 },
 "nbformat": 4,
 "nbformat_minor": 5
}
